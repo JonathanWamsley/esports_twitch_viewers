{
 "cells": [
  {
   "cell_type": "markdown",
   "metadata": {},
   "source": [
    "## Twitch Data processing \n",
    " Converts the twitch data scraped from [https://escharts.com/tournaments?order=default&status=recent] around 11/13/19 into </br>\n",
    " a pandas data frame which is then exported as a csv sheet for discord viewing </br>\n",
    " \n",
    " - Note that the event_dates was not change to date time obj yet, Jinri can decide on the format"
   ]
  },
  {
   "cell_type": "code",
   "execution_count": 1,
   "metadata": {},
   "outputs": [],
   "source": [
    "import pandas as pd"
   ]
  },
  {
   "cell_type": "code",
   "execution_count": 5,
   "metadata": {},
   "outputs": [],
   "source": [
    "twitch = pd.read_json('twitch_data_raw.json')\n",
    "twitch = twitch.apply(lambda col: col.str[0])"
   ]
  },
  {
   "cell_type": "code",
   "execution_count": 6,
   "metadata": {},
   "outputs": [
    {
     "data": {
      "text/plain": [
       "Index(['air_time', 'average_viewers', 'event_dates', 'hours_watched',\n",
       "       'peak_viewers', 'title'],\n",
       "      dtype='object')"
      ]
     },
     "execution_count": 6,
     "metadata": {},
     "output_type": "execute_result"
    }
   ],
   "source": [
    "twitch.columns"
   ]
  },
  {
   "cell_type": "code",
   "execution_count": 7,
   "metadata": {},
   "outputs": [
    {
     "data": {
      "text/html": [
       "<div>\n",
       "<style scoped>\n",
       "    .dataframe tbody tr th:only-of-type {\n",
       "        vertical-align: middle;\n",
       "    }\n",
       "\n",
       "    .dataframe tbody tr th {\n",
       "        vertical-align: top;\n",
       "    }\n",
       "\n",
       "    .dataframe thead th {\n",
       "        text-align: right;\n",
       "    }\n",
       "</style>\n",
       "<table border=\"1\" class=\"dataframe\">\n",
       "  <thead>\n",
       "    <tr style=\"text-align: right;\">\n",
       "      <th></th>\n",
       "      <th>title</th>\n",
       "      <th>event_dates</th>\n",
       "      <th>air_time</th>\n",
       "      <th>average_viewers</th>\n",
       "      <th>hours_watched</th>\n",
       "      <th>peak_viewers</th>\n",
       "    </tr>\n",
       "  </thead>\n",
       "  <tbody>\n",
       "    <tr>\n",
       "      <th>0</th>\n",
       "      <td>Rooster Teeth's Extra Life 2019</td>\n",
       "      <td>08/11/19 - 10/11/19</td>\n",
       "      <td>15</td>\n",
       "      <td>32,255</td>\n",
       "      <td>467,684</td>\n",
       "      <td>45,876</td>\n",
       "    </tr>\n",
       "    <tr>\n",
       "      <th>1</th>\n",
       "      <td>2019 World Championship</td>\n",
       "      <td>02/10/19 - 10/11/19</td>\n",
       "      <td>136</td>\n",
       "      <td>1,012,559</td>\n",
       "      <td>137,876,707</td>\n",
       "      <td>3,985,787</td>\n",
       "    </tr>\n",
       "    <tr>\n",
       "      <th>2</th>\n",
       "      <td>PMCO 2019 Fall South Asia</td>\n",
       "      <td>24/09/19 - 10/11/19</td>\n",
       "      <td>55</td>\n",
       "      <td>63,603</td>\n",
       "      <td>3,487,537</td>\n",
       "      <td>249,852</td>\n",
       "    </tr>\n",
       "    <tr>\n",
       "      <th>3</th>\n",
       "      <td>Icelandic Esports League Season 2 Finals</td>\n",
       "      <td>10/11/19</td>\n",
       "      <td>5</td>\n",
       "      <td>474</td>\n",
       "      <td>2,331</td>\n",
       "      <td>894</td>\n",
       "    </tr>\n",
       "    <tr>\n",
       "      <th>4</th>\n",
       "      <td>Shadowverse Open November Cup # 1</td>\n",
       "      <td>10/11/19</td>\n",
       "      <td>5</td>\n",
       "      <td>183</td>\n",
       "      <td>944</td>\n",
       "      <td>273</td>\n",
       "    </tr>\n",
       "  </tbody>\n",
       "</table>\n",
       "</div>"
      ],
      "text/plain": [
       "                                      title          event_dates air_time  \\\n",
       "0           Rooster Teeth's Extra Life 2019  08/11/19 - 10/11/19       15   \n",
       "1                   2019 World Championship  02/10/19 - 10/11/19      136   \n",
       "2                 PMCO 2019 Fall South Asia  24/09/19 - 10/11/19       55   \n",
       "3  Icelandic Esports League Season 2 Finals             10/11/19        5   \n",
       "4         Shadowverse Open November Cup # 1             10/11/19        5   \n",
       "\n",
       "  average_viewers hours_watched peak_viewers  \n",
       "0          32,255       467,684       45,876  \n",
       "1       1,012,559   137,876,707    3,985,787  \n",
       "2          63,603     3,487,537      249,852  \n",
       "3             474         2,331          894  \n",
       "4             183           944          273  "
      ]
     },
     "execution_count": 7,
     "metadata": {},
     "output_type": "execute_result"
    }
   ],
   "source": [
    "twitch = twitch[['title','event_dates', 'air_time', 'average_viewers', 'hours_watched',\n",
    "       'peak_viewers']]\n",
    "twitch.head()"
   ]
  },
  {
   "cell_type": "code",
   "execution_count": 8,
   "metadata": {},
   "outputs": [
    {
     "name": "stdout",
     "output_type": "stream",
     "text": [
      "<class 'pandas.core.frame.DataFrame'>\n",
      "RangeIndex: 3961 entries, 0 to 3960\n",
      "Data columns (total 6 columns):\n",
      "title              3961 non-null object\n",
      "event_dates        3961 non-null object\n",
      "air_time           3961 non-null object\n",
      "average_viewers    3961 non-null object\n",
      "hours_watched      3961 non-null object\n",
      "peak_viewers       3961 non-null object\n",
      "dtypes: object(6)\n",
      "memory usage: 185.8+ KB\n"
     ]
    }
   ],
   "source": [
    "twitch.info()"
   ]
  },
  {
   "cell_type": "code",
   "execution_count": 10,
   "metadata": {},
   "outputs": [],
   "source": [
    "twitch = twitch.applymap((lambda col: col.replace(',','')))"
   ]
  },
  {
   "cell_type": "code",
   "execution_count": 11,
   "metadata": {},
   "outputs": [],
   "source": [
    "twitch = twitch.astype({'air_time':'int32', 'average_viewers':'int32', 'hours_watched':'int32',\n",
    "       'peak_viewers':'int32'})"
   ]
  },
  {
   "cell_type": "code",
   "execution_count": 12,
   "metadata": {},
   "outputs": [
    {
     "data": {
      "text/plain": [
       "title              object\n",
       "event_dates        object\n",
       "air_time            int32\n",
       "average_viewers     int32\n",
       "hours_watched       int32\n",
       "peak_viewers        int32\n",
       "dtype: object"
      ]
     },
     "execution_count": 12,
     "metadata": {},
     "output_type": "execute_result"
    }
   ],
   "source": [
    "twitch.dtypes"
   ]
  },
  {
   "cell_type": "code",
   "execution_count": 97,
   "metadata": {},
   "outputs": [],
   "source": [
    "twitch.to_csv('twitch_tournament_views.csv', index = False)"
   ]
  },
  {
   "cell_type": "code",
   "execution_count": 98,
   "metadata": {},
   "outputs": [],
   "source": [
    "results = pd.read_csv('twitch_tournament_views.csv')"
   ]
  },
  {
   "cell_type": "code",
   "execution_count": 99,
   "metadata": {},
   "outputs": [
    {
     "data": {
      "text/html": [
       "<div>\n",
       "<style scoped>\n",
       "    .dataframe tbody tr th:only-of-type {\n",
       "        vertical-align: middle;\n",
       "    }\n",
       "\n",
       "    .dataframe tbody tr th {\n",
       "        vertical-align: top;\n",
       "    }\n",
       "\n",
       "    .dataframe thead th {\n",
       "        text-align: right;\n",
       "    }\n",
       "</style>\n",
       "<table border=\"1\" class=\"dataframe\">\n",
       "  <thead>\n",
       "    <tr style=\"text-align: right;\">\n",
       "      <th></th>\n",
       "      <th>title</th>\n",
       "      <th>event_dates</th>\n",
       "      <th>air_time</th>\n",
       "      <th>average_viewers</th>\n",
       "      <th>hours_watched</th>\n",
       "      <th>peak_viewers</th>\n",
       "    </tr>\n",
       "  </thead>\n",
       "  <tbody>\n",
       "    <tr>\n",
       "      <th>0</th>\n",
       "      <td>Rooster Teeth's Extra Life 2019</td>\n",
       "      <td>08/11/19 - 10/11/19</td>\n",
       "      <td>15</td>\n",
       "      <td>32255</td>\n",
       "      <td>467684</td>\n",
       "      <td>45876</td>\n",
       "    </tr>\n",
       "    <tr>\n",
       "      <th>1</th>\n",
       "      <td>2019 World Championship</td>\n",
       "      <td>02/10/19 - 10/11/19</td>\n",
       "      <td>136</td>\n",
       "      <td>1012559</td>\n",
       "      <td>137876707</td>\n",
       "      <td>3985787</td>\n",
       "    </tr>\n",
       "    <tr>\n",
       "      <th>2</th>\n",
       "      <td>PMCO 2019 Fall South Asia</td>\n",
       "      <td>24/09/19 - 10/11/19</td>\n",
       "      <td>55</td>\n",
       "      <td>63603</td>\n",
       "      <td>3487537</td>\n",
       "      <td>249852</td>\n",
       "    </tr>\n",
       "    <tr>\n",
       "      <th>3</th>\n",
       "      <td>Icelandic Esports League Season 2 Finals</td>\n",
       "      <td>10/11/19</td>\n",
       "      <td>5</td>\n",
       "      <td>474</td>\n",
       "      <td>2331</td>\n",
       "      <td>894</td>\n",
       "    </tr>\n",
       "    <tr>\n",
       "      <th>4</th>\n",
       "      <td>Shadowverse Open November Cup # 1</td>\n",
       "      <td>10/11/19</td>\n",
       "      <td>5</td>\n",
       "      <td>183</td>\n",
       "      <td>944</td>\n",
       "      <td>273</td>\n",
       "    </tr>\n",
       "  </tbody>\n",
       "</table>\n",
       "</div>"
      ],
      "text/plain": [
       "                                      title          event_dates  air_time  \\\n",
       "0           Rooster Teeth's Extra Life 2019  08/11/19 - 10/11/19        15   \n",
       "1                   2019 World Championship  02/10/19 - 10/11/19       136   \n",
       "2                 PMCO 2019 Fall South Asia  24/09/19 - 10/11/19        55   \n",
       "3  Icelandic Esports League Season 2 Finals             10/11/19         5   \n",
       "4         Shadowverse Open November Cup # 1             10/11/19         5   \n",
       "\n",
       "   average_viewers  hours_watched  peak_viewers  \n",
       "0            32255         467684         45876  \n",
       "1          1012559      137876707       3985787  \n",
       "2            63603        3487537        249852  \n",
       "3              474           2331           894  \n",
       "4              183            944           273  "
      ]
     },
     "execution_count": 99,
     "metadata": {},
     "output_type": "execute_result"
    }
   ],
   "source": [
    "results.head()"
   ]
  }
 ],
 "metadata": {
  "kernelspec": {
   "display_name": "Python 3",
   "language": "python",
   "name": "python3"
  },
  "language_info": {
   "codemirror_mode": {
    "name": "ipython",
    "version": 3
   },
   "file_extension": ".py",
   "mimetype": "text/x-python",
   "name": "python",
   "nbconvert_exporter": "python",
   "pygments_lexer": "ipython3",
   "version": "3.7.1"
  }
 },
 "nbformat": 4,
 "nbformat_minor": 2
}
